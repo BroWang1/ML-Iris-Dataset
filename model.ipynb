{
 "cells": [
  {
   "cell_type": "code",
   "execution_count": 72,
   "id": "initial_id",
   "metadata": {
    "collapsed": true,
    "ExecuteTime": {
     "end_time": "2025-02-08T13:15:54.253608Z",
     "start_time": "2025-02-08T13:15:54.246657Z"
    }
   },
   "outputs": [],
   "source": [
    "import torch\n",
    "import torch.nn as nn\n",
    "import torch.nn.functional as F"
   ]
  },
  {
   "cell_type": "code",
   "outputs": [],
   "source": [
    "class Model(nn.Module):     #Setting up the model using OOP we can put in Layers, Weight/Biases, Regularization\n",
    "    def __init__(self, input_data=4, hd1=10, hd2=10, hd3=10, output=3):     #Initializing Layers\n",
    "        super().__init__()                          #Call methods from a parent class(Inheritance)\n",
    "        self.fc1 = nn.Linear(input_data, hd1)       #Linear function means to fully connected the input_data to hd1\n",
    "        self.fc2 = nn.Linear(hd1, hd2)              #Linear function means to fully connected the hd1 to hd2\n",
    "        self.fc3 = nn.Linear(hd2, hd3)              #etc\n",
    "        self.fc4 = nn.Linear(hd3, output)           #The weighted sum of inputs and adding the bias happens here\n",
    "    def forward(self, x):                   #This is how the neural network moves forward(Forward Pass)\n",
    "        x = F.relu(self.fc1(x))             #After the output(of hd1) they apply an Activation Function(Relu)\n",
    "        x = F.relu(self.fc2(x))             #The activation function is applied to the output of the layer\n",
    "        x = F.relu(self.fc3(x))\n",
    "        x = self.fc4(x)\n",
    "        return x"
   ],
   "metadata": {
    "collapsed": false,
    "ExecuteTime": {
     "end_time": "2025-02-08T13:15:54.644128Z",
     "start_time": "2025-02-08T13:15:54.640486Z"
    }
   },
   "id": "63073cfaf109df90",
   "execution_count": 73
  },
  {
   "cell_type": "code",
   "outputs": [],
   "source": [
    "torch.manual_seed(0)    #Set a value and ensures that the randomness is the same\n",
    "model = Model()         #'Turning on' the Model"
   ],
   "metadata": {
    "collapsed": false,
    "ExecuteTime": {
     "end_time": "2025-02-08T13:15:55.190138Z",
     "start_time": "2025-02-08T13:15:55.183941Z"
    }
   },
   "id": "71e2a80667711c39",
   "execution_count": 74
  },
  {
   "cell_type": "code",
   "outputs": [],
   "source": [
    "import pandas as pd\n",
    "import matplotlib.pyplot as plt\n",
    "%matplotlib inline"
   ],
   "metadata": {
    "collapsed": false,
    "ExecuteTime": {
     "end_time": "2025-02-08T13:15:55.424985Z",
     "start_time": "2025-02-08T13:15:55.419495Z"
    }
   },
   "id": "62ef48629403ac03",
   "execution_count": 75
  },
  {
   "cell_type": "code",
   "outputs": [
    {
     "data": {
      "text/plain": "     Sepal Length  Sepal Width  Petal Length  Petal Width  Type of Flower\n0             5.1          3.5           1.4          0.2     Iris-setosa\n1             4.9          3.0           1.4          0.2     Iris-setosa\n2             4.7          3.2           1.3          0.2     Iris-setosa\n3             4.6          3.1           1.5          0.2     Iris-setosa\n4             5.0          3.6           1.4          0.2     Iris-setosa\n..            ...          ...           ...          ...             ...\n145           6.7          3.0           5.2          2.3  Iris-virginica\n146           6.3          2.5           5.0          1.9  Iris-virginica\n147           6.5          3.0           5.2          2.0  Iris-virginica\n148           6.2          3.4           5.4          2.3  Iris-virginica\n149           5.9          3.0           5.1          1.8  Iris-virginica\n\n[150 rows x 5 columns]",
      "text/html": "<div>\n<style scoped>\n    .dataframe tbody tr th:only-of-type {\n        vertical-align: middle;\n    }\n\n    .dataframe tbody tr th {\n        vertical-align: top;\n    }\n\n    .dataframe thead th {\n        text-align: right;\n    }\n</style>\n<table border=\"1\" class=\"dataframe\">\n  <thead>\n    <tr style=\"text-align: right;\">\n      <th></th>\n      <th>Sepal Length</th>\n      <th>Sepal Width</th>\n      <th>Petal Length</th>\n      <th>Petal Width</th>\n      <th>Type of Flower</th>\n    </tr>\n  </thead>\n  <tbody>\n    <tr>\n      <th>0</th>\n      <td>5.1</td>\n      <td>3.5</td>\n      <td>1.4</td>\n      <td>0.2</td>\n      <td>Iris-setosa</td>\n    </tr>\n    <tr>\n      <th>1</th>\n      <td>4.9</td>\n      <td>3.0</td>\n      <td>1.4</td>\n      <td>0.2</td>\n      <td>Iris-setosa</td>\n    </tr>\n    <tr>\n      <th>2</th>\n      <td>4.7</td>\n      <td>3.2</td>\n      <td>1.3</td>\n      <td>0.2</td>\n      <td>Iris-setosa</td>\n    </tr>\n    <tr>\n      <th>3</th>\n      <td>4.6</td>\n      <td>3.1</td>\n      <td>1.5</td>\n      <td>0.2</td>\n      <td>Iris-setosa</td>\n    </tr>\n    <tr>\n      <th>4</th>\n      <td>5.0</td>\n      <td>3.6</td>\n      <td>1.4</td>\n      <td>0.2</td>\n      <td>Iris-setosa</td>\n    </tr>\n    <tr>\n      <th>...</th>\n      <td>...</td>\n      <td>...</td>\n      <td>...</td>\n      <td>...</td>\n      <td>...</td>\n    </tr>\n    <tr>\n      <th>145</th>\n      <td>6.7</td>\n      <td>3.0</td>\n      <td>5.2</td>\n      <td>2.3</td>\n      <td>Iris-virginica</td>\n    </tr>\n    <tr>\n      <th>146</th>\n      <td>6.3</td>\n      <td>2.5</td>\n      <td>5.0</td>\n      <td>1.9</td>\n      <td>Iris-virginica</td>\n    </tr>\n    <tr>\n      <th>147</th>\n      <td>6.5</td>\n      <td>3.0</td>\n      <td>5.2</td>\n      <td>2.0</td>\n      <td>Iris-virginica</td>\n    </tr>\n    <tr>\n      <th>148</th>\n      <td>6.2</td>\n      <td>3.4</td>\n      <td>5.4</td>\n      <td>2.3</td>\n      <td>Iris-virginica</td>\n    </tr>\n    <tr>\n      <th>149</th>\n      <td>5.9</td>\n      <td>3.0</td>\n      <td>5.1</td>\n      <td>1.8</td>\n      <td>Iris-virginica</td>\n    </tr>\n  </tbody>\n</table>\n<p>150 rows × 5 columns</p>\n</div>"
     },
     "execution_count": 76,
     "metadata": {},
     "output_type": "execute_result"
    }
   ],
   "source": [
    "col_names = ['Sepal Length', 'Sepal Width', 'Petal Length', 'Petal Width','Type of Flower'] # Didn't have Columns\n",
    "iris_df = pd.read_csv(r\"/Users/thewang/Downloads/iris_dataset.csv\", names=col_names, header=None )  #Loading Data\n",
    "iris_df"
   ],
   "metadata": {
    "collapsed": false,
    "ExecuteTime": {
     "end_time": "2025-02-08T13:15:56.164547Z",
     "start_time": "2025-02-08T13:15:56.132700Z"
    }
   },
   "id": "735189d17d9589d6",
   "execution_count": 76
  },
  {
   "cell_type": "code",
   "outputs": [
    {
     "data": {
      "text/plain": "array(['Iris-setosa', 'Iris-versicolor', 'Iris-virginica'], dtype=object)"
     },
     "execution_count": 77,
     "metadata": {},
     "output_type": "execute_result"
    }
   ],
   "source": [
    "iris_df['Type of Flower'].unique()      #Looking into the Type of Unique Flower in the column"
   ],
   "metadata": {
    "collapsed": false,
    "ExecuteTime": {
     "end_time": "2025-02-08T13:15:57.167221Z",
     "start_time": "2025-02-08T13:15:57.148731Z"
    }
   },
   "id": "de9dc7777fb3ee2d",
   "execution_count": 77
  },
  {
   "cell_type": "code",
   "outputs": [
    {
     "data": {
      "text/plain": "array([0., 1., 2.])"
     },
     "execution_count": 79,
     "metadata": {},
     "output_type": "execute_result"
    }
   ],
   "source": [
    "iris_df['Type of Flower'] = iris_df['Type of Flower'].replace({\n",
    "    'Iris-setosa': 0.0, \n",
    "    'Iris-versicolor': 1.0, \n",
    "    'Iris-virginica': 2.0\n",
    "})                          #Converted the Flowers to int/Floats for the Model to understand better\n",
    "pd.set_option('future.no_silent_downcasting', True)\n",
    "iris_df['Type of Flower'] = pd.to_numeric(iris_df['Type of Flower'], errors='coerce')\n",
    "iris_df['Type of Flower'].unique()              #Making sure it worked"
   ],
   "metadata": {
    "collapsed": false,
    "ExecuteTime": {
     "end_time": "2025-02-08T13:16:26.456709Z",
     "start_time": "2025-02-08T13:16:26.434671Z"
    }
   },
   "id": "27658ed2dcc6b43d",
   "execution_count": 79
  },
  {
   "cell_type": "code",
   "outputs": [],
   "source": [
    "# We have different layers to the model, so we separate the description of the flower from the type of flower\n",
    "X = iris_df.drop('Type of Flower', axis=1)  # how we have our inputs\n",
    "y = iris_df['Type of Flower']         #This is the results"
   ],
   "metadata": {
    "collapsed": false,
    "ExecuteTime": {
     "end_time": "2025-02-08T13:16:28.515007Z",
     "start_time": "2025-02-08T13:16:28.497562Z"
    }
   },
   "id": "6d5fe8ea2387f5e3",
   "execution_count": 80
  },
  {
   "cell_type": "code",
   "outputs": [],
   "source": [
    "#Converted the tabular data into Numpy Array bc pandas df doesn't work directly with tensors \n",
    "#X = X.values\n",
    "#y = y.values\n",
    "# I can skip this step and put .values, so it knows to use the values of the df "
   ],
   "metadata": {
    "collapsed": false,
    "ExecuteTime": {
     "end_time": "2025-02-08T13:16:29.014420Z",
     "start_time": "2025-02-08T13:16:29.011649Z"
    }
   },
   "id": "67ebccfd62fcca05",
   "execution_count": 81
  },
  {
   "cell_type": "code",
   "outputs": [],
   "source": [
    "from sklearn.model_selection import train_test_split # This is to randomly split the data to training and testing\n",
    "#Test size is % data used for test\n",
    "X_train, X_test, y_train, y_test = train_test_split(X, y, test_size=0.2, random_state=0)\n",
    "#Now converting it to Tensor and put .values in the () if it is not numpy form\n",
    "X_train = torch.FloatTensor(X_train.values)  #It is easier to put them into floats bc the dataset they were floats\n",
    "X_test = torch.FloatTensor(X_test.values)"
   ],
   "metadata": {
    "collapsed": false,
    "ExecuteTime": {
     "end_time": "2025-02-08T13:16:29.476748Z",
     "start_time": "2025-02-08T13:16:29.471868Z"
    }
   },
   "id": "57cfae13fdc54a9",
   "execution_count": 82
  },
  {
   "cell_type": "code",
   "outputs": [],
   "source": [
    "y_train = torch.LongTensor(y_train.values)     #Converting them into Intergers \n",
    "y_test = torch.LongTensor(y_test.values)"
   ],
   "metadata": {
    "collapsed": false,
    "ExecuteTime": {
     "end_time": "2025-02-08T13:16:29.837600Z",
     "start_time": "2025-02-08T13:16:29.834637Z"
    }
   },
   "id": "18cc9e115a460e51",
   "execution_count": 83
  },
  {
   "cell_type": "code",
   "outputs": [],
   "source": [
    "#Setting up the Criterion, so we can see how far off are the prediction from the true value\n",
    "criterion = nn.CrossEntropyLoss()\n",
    "#(Training) Optimizer updates the model to find the minimum of the loss function using Gradient Decent\n",
    "optimizer = torch.optim.Adam(model.parameters(), lr =.01) #Adam & lr * Grad. vec.= Step size to find minimum error"
   ],
   "metadata": {
    "collapsed": false,
    "ExecuteTime": {
     "end_time": "2025-02-08T13:16:30.198765Z",
     "start_time": "2025-02-08T13:16:30.191412Z"
    }
   },
   "id": "952f9a7b06e0c483",
   "execution_count": 84
  },
  {
   "cell_type": "code",
   "outputs": [
    {
     "data": {
      "text/plain": "<bound method Module.parameters of Model(\n  (fc1): Linear(in_features=4, out_features=10, bias=True)\n  (fc2): Linear(in_features=10, out_features=10, bias=True)\n  (fc3): Linear(in_features=10, out_features=10, bias=True)\n  (fc4): Linear(in_features=10, out_features=3, bias=True)\n)>"
     },
     "execution_count": 85,
     "metadata": {},
     "output_type": "execute_result"
    }
   ],
   "source": [
    "model.parameters"
   ],
   "metadata": {
    "collapsed": false,
    "ExecuteTime": {
     "end_time": "2025-02-08T13:16:30.526809Z",
     "start_time": "2025-02-08T13:16:30.521259Z"
    }
   },
   "id": "9523d1881311bc7c",
   "execution_count": 85
  },
  {
   "cell_type": "code",
   "outputs": [
    {
     "name": "stdout",
     "output_type": "stream",
     "text": [
      "Epoch: 0, Loss: 1.1017285585403442\n",
      "Epoch: 10, Loss: 1.0612585544586182\n",
      "Epoch: 20, Loss: 0.8268256783485413\n",
      "Epoch: 30, Loss: 0.5051470994949341\n",
      "Epoch: 40, Loss: 0.42008593678474426\n",
      "Epoch: 50, Loss: 0.2499656230211258\n",
      "Epoch: 60, Loss: 0.12406221777200699\n",
      "Epoch: 70, Loss: 0.08720497786998749\n",
      "Epoch: 80, Loss: 0.07607769221067429\n",
      "Epoch: 90, Loss: 0.06945390999317169\n"
     ]
    }
   ],
   "source": [
    "#Training the model \n",
    "# Epoch is one run through the neural network with all the training data\n",
    "epochs = 100\n",
    "losses = []\n",
    "#Helps trains the model over epoch amount of time\n",
    "for epoch in range(epochs):\n",
    "    y_pred = model.forward(X_train) #Gets Predicted Results\n",
    "    # Measuring Loss (starts of high)\n",
    "    loss = criterion(y_pred, y_train)       #1/n * The Sum Notation(y_train-y_pred)^2\n",
    "    #Keeping track of our losses\n",
    "    losses.append(loss.item())          #This is \n",
    "    # Showing me every 10 epochs(runs)\n",
    "    if epoch % 10 == 0:\n",
    "        print(f'Epoch: {epoch}, Loss: {loss}')\n",
    "    #Now Back Propagation to help reduce the cost or loss/ Adjusts the weights and biases\n",
    "    optimizer.zero_grad()\n",
    "    loss.backward()\n",
    "    optimizer.step()\n",
    "    "
   ],
   "metadata": {
    "collapsed": false,
    "ExecuteTime": {
     "end_time": "2025-02-08T13:16:31.207350Z",
     "start_time": "2025-02-08T13:16:31.024509Z"
    }
   },
   "id": "74a6a30a620f7544",
   "execution_count": 86
  },
  {
   "cell_type": "code",
   "outputs": [
    {
     "data": {
      "text/plain": "Text(0.5, 0, '# of Epoch')"
     },
     "execution_count": 88,
     "metadata": {},
     "output_type": "execute_result"
    },
    {
     "data": {
      "text/plain": "<Figure size 640x480 with 1 Axes>",
      "image/png": "[encoded data removed]"
     },
     "metadata": {},
     "output_type": "display_data"
    }
   ],
   "source": [
    "#Graphing the losses\n",
    "plt.plot(range(epochs), losses)\n",
    "plt.ylabel('Loss/Error')\n",
    "plt.xlabel('# of Epoch')\n"
   ],
   "metadata": {
    "collapsed": false,
    "ExecuteTime": {
     "end_time": "2025-02-08T13:53:27.655305Z",
     "start_time": "2025-02-08T13:53:27.297434Z"
    }
   },
   "id": "7fb11d389e2742da",
   "execution_count": 88
  },
  {
   "cell_type": "code",
   "outputs": [],
   "source": [
    "#Evaluating model using Testing dataset\n",
    "with torch.no_grad():   #Turning off Back Propagation\n",
    "    y_eval = model.forward(X_test) #Testing Input dataset\n",
    "    loss = criterion(y_eval, y_test) # We are comparing the predictions and the real answers"
   ],
   "metadata": {
    "collapsed": false,
    "ExecuteTime": {
     "end_time": "2025-02-09T21:05:40.125437Z",
     "start_time": "2025-02-09T21:05:40.072233Z"
    }
   },
   "id": "d9698118a44905c4",
   "execution_count": 94
  },
  {
   "cell_type": "code",
   "outputs": [
    {
     "data": {
      "text/plain": "tensor(0.0168)"
     },
     "execution_count": 95,
     "metadata": {},
     "output_type": "execute_result"
    }
   ],
   "source": [
    "loss    #This number should have been close to the error score of the training data"
   ],
   "metadata": {
    "collapsed": false,
    "ExecuteTime": {
     "end_time": "2025-02-09T21:05:42.287881Z",
     "start_time": "2025-02-09T21:05:42.263710Z"
    }
   },
   "id": "fd72ff00e1b05da1",
   "execution_count": 95
  },
  {
   "cell_type": "code",
   "outputs": [
    {
     "name": "stdout",
     "output_type": "stream",
     "text": [
      "1.) tensor([-11.4115,  -0.1238,   8.3215]) \t 2 \t 2\n",
      "2.) tensor([-2.2726,  5.9755, -3.0512]) \t 1 \t 1\n",
      "3.) tensor([ 15.2875,   4.1884, -20.7106]) \t 0 \t 0\n",
      "4.) tensor([-12.0826,   0.7893,   8.4512]) \t 2 \t 2\n",
      "5.) tensor([ 12.7916,   3.7238, -17.5490]) \t 0 \t 0\n",
      "6.) tensor([-12.9586,  -0.4041,   9.6180]) \t 2 \t 2\n",
      "7.) tensor([ 13.1343,   3.7698, -17.9746]) \t 0 \t 0\n",
      "8.) tensor([-3.8514,  5.9321, -1.7754]) \t 1 \t 1\n",
      "9.) tensor([-4.3847,  5.4674, -1.0091]) \t 1 \t 1\n",
      "10.) tensor([-2.1206,  6.3927, -3.5247]) \t 1 \t 1\n",
      "11.) tensor([-10.5020,   1.0412,   7.0605]) \t 2 \t 2\n",
      "12.) tensor([-3.3532,  6.1463, -2.3229]) \t 1 \t 1\n",
      "13.) tensor([-4.6562,  4.9838, -0.4328]) \t 1 \t 1\n",
      "14.) tensor([-4.6148,  5.0894, -0.5466]) \t 1 \t 1\n",
      "15.) tensor([-5.3495,  4.5222,  0.4491]) \t 1 \t 1\n",
      "16.) tensor([ 12.3089,   3.6327, -16.9372]) \t 0 \t 0\n",
      "17.) tensor([-5.0919,  4.5707,  0.2128]) \t 1 \t 1\n",
      "18.) tensor([-5.1652,  4.1421,  0.5979]) \t 1 \t 1\n",
      "19.) tensor([ 11.6782,   3.5042, -16.1327]) \t 0 \t 0\n",
      "20.) tensor([ 14.2799,   3.9900, -19.4289]) \t 0 \t 0\n",
      "21.) tensor([-10.4606,   0.5697,   7.3069]) \t 2 \t 2\n",
      "22.) tensor([-5.8129,  3.9587,  1.2310]) \t 1 \t 1\n",
      "23.) tensor([ 11.5584,   3.6369, -16.0763]) \t 0 \t 0\n",
      "24.) tensor([ 11.0979,   3.3889, -15.3942]) \t 0 \t 0\n",
      "25.) tensor([-7.7434,  2.7830,  3.6097]) \t 2 \t 2\n",
      "26.) tensor([ 13.5235,   3.8089, -18.4517]) \t 0 \t 0\n",
      "27.) tensor([ 12.3162,   3.7727, -17.0316]) \t 0 \t 0\n",
      "28.) tensor([-2.7126,  6.2826, -2.9219]) \t 1 \t 1\n",
      "29.) tensor([-1.4650,  5.8272, -3.6355]) \t 1 \t 1\n",
      "30.) tensor([ 12.1124,   3.6054, -16.6922]) \t 0 \t 0\n",
      "\t \t # of Correctly Classified Flower:30\n"
     ]
    }
   ],
   "source": [
    "# We are checking how many did it get correct since or testing data is 20% and out of 150 is 30\n",
    "correct = 0\n",
    "with torch.no_grad():\n",
    "    for i, data in enumerate(X_test):\n",
    "        y_val = model.forward(data)\n",
    "        # Converting string back to flower name\n",
    "        # if y_test[i] == 0:\n",
    "        #     x = 'Setosa'\n",
    "        # elif y_test[i] == 1:\n",
    "        #     x = 'Versicolor'\n",
    "        # else:\n",
    "        #     x = 'Virginica'\n",
    "            \n",
    "        print(f'{i+1}.) {str(y_val)} \\t {y_test[i]} \\t {y_val.argmax().item()}')       # This will let us know what type of flower is it \n",
    "        if y_val.argmax().item() == y_test[i]:\n",
    "            correct += 1\n",
    "print(f'\\t \\t # of Correctly Classified Flower:{correct}')"
   ],
   "metadata": {
    "collapsed": false,
    "ExecuteTime": {
     "end_time": "2025-02-09T21:32:25.411832Z",
     "start_time": "2025-02-09T21:32:25.389242Z"
    }
   },
   "id": "f5dc548da328e939",
   "execution_count": 111
  },
  {
   "cell_type": "code",
   "outputs": [
    {
     "name": "stdout",
     "output_type": "stream",
     "text": [
      "tensor([ 13.4032,   3.7905, -18.3020])\n"
     ]
    }
   ],
   "source": [
    "#Adding new data points\n",
    "new_iris = torch.tensor([5.2, 2.8, .9, 0.1])\n",
    "with torch.no_grad():\n",
    "    print(model(new_iris))      #The column is the flower type and the position of the largest number is the flower that is assoicated with the new data point"
   ],
   "metadata": {
    "collapsed": false,
    "ExecuteTime": {
     "end_time": "2025-02-09T21:46:29.819120Z",
     "start_time": "2025-02-09T21:46:29.768176Z"
    }
   },
   "id": "eadc3f4d408fccaf",
   "execution_count": 116
  },
  {
   "cell_type": "code",
   "outputs": [],
   "source": [
    "#Saving the Neural Network\n",
    "torch.save(model.state_dict(), 'iris_classifier_model.pt')"
   ],
   "metadata": {
    "collapsed": false,
    "ExecuteTime": {
     "end_time": "2025-02-09T21:44:44.069806Z",
     "start_time": "2025-02-09T21:44:43.974642Z"
    }
   },
   "id": "f10f862bde45345e",
   "execution_count": 114
  },
  {
   "cell_type": "code",
   "outputs": [
    {
     "data": {
      "text/plain": "<All keys matched successfully>"
     },
     "execution_count": 117,
     "metadata": {},
     "output_type": "execute_result"
    }
   ],
   "source": [
    "#Load the saved model\n",
    "new_model = Model()\n",
    "new_model.load_state_dict(torch.load('iris_classifier_model.pt'))"
   ],
   "metadata": {
    "collapsed": false,
    "ExecuteTime": {
     "end_time": "2025-02-09T21:46:33.056620Z",
     "start_time": "2025-02-09T21:46:33.029751Z"
    }
   },
   "id": "18fae10bc633ace1",
   "execution_count": 117
  },
  {
   "cell_type": "code",
   "outputs": [
    {
     "data": {
      "text/plain": "Model(\n  (fc1): Linear(in_features=4, out_features=10, bias=True)\n  (fc2): Linear(in_features=10, out_features=10, bias=True)\n  (fc3): Linear(in_features=10, out_features=10, bias=True)\n  (fc4): Linear(in_features=10, out_features=3, bias=True)\n)"
     },
     "execution_count": 118,
     "metadata": {},
     "output_type": "execute_result"
    }
   ],
   "source": [
    "#Making sure it loaded correcly by looking at the initalized layers\n",
    "new_model.eval()"
   ],
   "metadata": {
    "collapsed": false,
    "ExecuteTime": {
     "end_time": "2025-02-09T21:47:15.280176Z",
     "start_time": "2025-02-09T21:47:15.239296Z"
    }
   },
   "id": "7e71ede83a906217",
   "execution_count": 118
  },
  {
   "cell_type": "code",
   "outputs": [],
   "source": [],
   "metadata": {
    "collapsed": false
   },
   "id": "91c940a18e8dd3ba"
  }
 ],
 "metadata": {
  "kernelspec": {
   "display_name": "Python 3",
   "language": "python",
   "name": "python3"
  },
  "language_info": {
   "codemirror_mode": {
    "name": "ipython",
    "version": 2
   },
   "file_extension": ".py",
   "mimetype": "text/x-python",
   "name": "python",
   "nbconvert_exporter": "python",
   "pygments_lexer": "ipython2",
   "version": "2.7.6"
  }
 },
 "nbformat": 4,
 "nbformat_minor": 5
}
