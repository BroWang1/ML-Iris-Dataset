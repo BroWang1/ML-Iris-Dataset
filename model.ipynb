{
 "cells": [
  {
   "cell_type": "code",
   "execution_count": 2,
   "id": "initial_id",
   "metadata": {
    "collapsed": true,
    "ExecuteTime": {
     "end_time": "2025-02-07T05:19:03.927799Z",
     "start_time": "2025-02-07T05:19:03.859519Z"
    }
   },
   "outputs": [],
   "source": [
    "import torch\n",
    "import torch.nn as nn\n",
    "import torch.nn.functional as F"
   ]
  },
  {
   "cell_type": "code",
   "outputs": [],
   "source": [
    "class Model(nn.Module):     #Setting up the model using OOP we can put in Layers, Weight/Biases, Regularization\n",
    "    def __init__(self, input_data=4, hd1=10, hd2=10, hd3=10, output=3):     #Initializing Layers\n",
    "        super().__init__()                          #Call methods from a parent class(Inheritance)\n",
    "        self.fc1 = nn.Linear(input_data, hd1)       #Linear function means to fully connected the input_data to hd1\n",
    "        self.fc2 = nn.Linear(hd1, hd2)              #Linear function means to fully connected the hd1 to hd2\n",
    "        self.fc3 = nn.Linear(hd2, hd3)              #etc\n",
    "        self.fc4 = nn.Linear(hd3, output)           #The weighted sum of inputs and adding the bias happens here\n",
    "    def forward(self, x):                   #This is how the neural network moves forward(Forward Pass)\n",
    "        x = F.relu(self.fc1(x))             #After the output(of hd1) they apply an Activation Function(Relu)\n",
    "        x = F.relu(self.fc2(x))             #The activation function is applied to the output of the layer\n",
    "        x = F.relu(self.fc3(x))\n",
    "        x = self.fc4(x)\n",
    "        return x"
   ],
   "metadata": {
    "collapsed": false,
    "ExecuteTime": {
     "end_time": "2025-02-07T05:37:58.643765Z",
     "start_time": "2025-02-07T05:37:58.612574Z"
    }
   },
   "id": "63073cfaf109df90",
   "execution_count": 3
  },
  {
   "cell_type": "code",
   "outputs": [],
   "source": [
    "torch.manual_seed(0)    #Set a value and ensures that the randomness is the same\n",
    "model = Model()         #'Turning on' the Model"
   ],
   "metadata": {
    "collapsed": false,
    "ExecuteTime": {
     "end_time": "2025-02-07T05:38:00.916611Z",
     "start_time": "2025-02-07T05:38:00.828821Z"
    }
   },
   "id": "71e2a80667711c39",
   "execution_count": 4
  },
  {
   "cell_type": "code",
   "outputs": [],
   "source": [
    "import pandas as pd\n",
    "import matplotlib.pyplot as plt\n",
    "%matplotlib inline"
   ],
   "metadata": {
    "collapsed": false,
    "ExecuteTime": {
     "end_time": "2025-02-08T01:20:02.373382Z",
     "start_time": "2025-02-08T01:19:50.489051Z"
    }
   },
   "id": "62ef48629403ac03",
   "execution_count": 6
  },
  {
   "cell_type": "code",
   "outputs": [
    {
     "data": {
      "text/plain": "     Sepal Length  Sepal Width  Petal Length  Petal Width  Type of Flower\n0             5.1          3.5           1.4          0.2     Iris-setosa\n1             4.9          3.0           1.4          0.2     Iris-setosa\n2             4.7          3.2           1.3          0.2     Iris-setosa\n3             4.6          3.1           1.5          0.2     Iris-setosa\n4             5.0          3.6           1.4          0.2     Iris-setosa\n..            ...          ...           ...          ...             ...\n145           6.7          3.0           5.2          2.3  Iris-virginica\n146           6.3          2.5           5.0          1.9  Iris-virginica\n147           6.5          3.0           5.2          2.0  Iris-virginica\n148           6.2          3.4           5.4          2.3  Iris-virginica\n149           5.9          3.0           5.1          1.8  Iris-virginica\n\n[150 rows x 5 columns]",
      "text/html": "<div>\n<style scoped>\n    .dataframe tbody tr th:only-of-type {\n        vertical-align: middle;\n    }\n\n    .dataframe tbody tr th {\n        vertical-align: top;\n    }\n\n    .dataframe thead th {\n        text-align: right;\n    }\n</style>\n<table border=\"1\" class=\"dataframe\">\n  <thead>\n    <tr style=\"text-align: right;\">\n      <th></th>\n      <th>Sepal Length</th>\n      <th>Sepal Width</th>\n      <th>Petal Length</th>\n      <th>Petal Width</th>\n      <th>Type of Flower</th>\n    </tr>\n  </thead>\n  <tbody>\n    <tr>\n      <th>0</th>\n      <td>5.1</td>\n      <td>3.5</td>\n      <td>1.4</td>\n      <td>0.2</td>\n      <td>Iris-setosa</td>\n    </tr>\n    <tr>\n      <th>1</th>\n      <td>4.9</td>\n      <td>3.0</td>\n      <td>1.4</td>\n      <td>0.2</td>\n      <td>Iris-setosa</td>\n    </tr>\n    <tr>\n      <th>2</th>\n      <td>4.7</td>\n      <td>3.2</td>\n      <td>1.3</td>\n      <td>0.2</td>\n      <td>Iris-setosa</td>\n    </tr>\n    <tr>\n      <th>3</th>\n      <td>4.6</td>\n      <td>3.1</td>\n      <td>1.5</td>\n      <td>0.2</td>\n      <td>Iris-setosa</td>\n    </tr>\n    <tr>\n      <th>4</th>\n      <td>5.0</td>\n      <td>3.6</td>\n      <td>1.4</td>\n      <td>0.2</td>\n      <td>Iris-setosa</td>\n    </tr>\n    <tr>\n      <th>...</th>\n      <td>...</td>\n      <td>...</td>\n      <td>...</td>\n      <td>...</td>\n      <td>...</td>\n    </tr>\n    <tr>\n      <th>145</th>\n      <td>6.7</td>\n      <td>3.0</td>\n      <td>5.2</td>\n      <td>2.3</td>\n      <td>Iris-virginica</td>\n    </tr>\n    <tr>\n      <th>146</th>\n      <td>6.3</td>\n      <td>2.5</td>\n      <td>5.0</td>\n      <td>1.9</td>\n      <td>Iris-virginica</td>\n    </tr>\n    <tr>\n      <th>147</th>\n      <td>6.5</td>\n      <td>3.0</td>\n      <td>5.2</td>\n      <td>2.0</td>\n      <td>Iris-virginica</td>\n    </tr>\n    <tr>\n      <th>148</th>\n      <td>6.2</td>\n      <td>3.4</td>\n      <td>5.4</td>\n      <td>2.3</td>\n      <td>Iris-virginica</td>\n    </tr>\n    <tr>\n      <th>149</th>\n      <td>5.9</td>\n      <td>3.0</td>\n      <td>5.1</td>\n      <td>1.8</td>\n      <td>Iris-virginica</td>\n    </tr>\n  </tbody>\n</table>\n<p>150 rows × 5 columns</p>\n</div>"
     },
     "execution_count": 12,
     "metadata": {},
     "output_type": "execute_result"
    }
   ],
   "source": [
    "col_names = ['Sepal Length', 'Sepal Width', 'Petal Length', 'Petal Width','Type of Flower'] # Didn't have Columns\n",
    "iris_df = pd.read_csv(r\"/Users/thewang/Downloads/iris_dataset.csv\", names=col_names, header=None )  #Loading Data\n",
    "iris_df"
   ],
   "metadata": {
    "collapsed": false,
    "ExecuteTime": {
     "end_time": "2025-02-08T01:30:11.137967Z",
     "start_time": "2025-02-08T01:30:11.103824Z"
    }
   },
   "id": "735189d17d9589d6",
   "execution_count": 12
  },
  {
   "cell_type": "code",
   "outputs": [
    {
     "data": {
      "text/plain": "array(['Iris-setosa', 'Iris-versicolor', 'Iris-virginica'], dtype=object)"
     },
     "execution_count": 13,
     "metadata": {},
     "output_type": "execute_result"
    }
   ],
   "source": [
    "iris_df['Type of Flower'].unique()      #Looking into the Type of Unique Flower in the column"
   ],
   "metadata": {
    "collapsed": false,
    "ExecuteTime": {
     "end_time": "2025-02-08T01:33:00.120686Z",
     "start_time": "2025-02-08T01:32:59.921888Z"
    }
   },
   "id": "de9dc7777fb3ee2d",
   "execution_count": 13
  },
  {
   "cell_type": "code",
   "outputs": [
    {
     "data": {
      "text/plain": "array([0., 1., 2.])"
     },
     "execution_count": 43,
     "metadata": {},
     "output_type": "execute_result"
    }
   ],
   "source": [
    "iris_df['Type of Flower'] = iris_df['Type of Flower'].replace({\n",
    "    'Iris-setosa': 0.0, \n",
    "    'Iris-versicolor': 1.0, \n",
    "    'Iris-virginica': 2.0\n",
    "})                                      #Converted the Flowers to int/Floats for the Model to understand better\n",
    "iris_df['Type of Flower'] = pd.to_numeric(iris_df['Type of Flower'], errors='coerce')\n",
    "iris_df['Type of Flower'].unique()              #Making sure it worked"
   ],
   "metadata": {
    "collapsed": false,
    "ExecuteTime": {
     "end_time": "2025-02-08T03:25:36.428994Z",
     "start_time": "2025-02-08T03:25:36.401877Z"
    }
   },
   "id": "27658ed2dcc6b43d",
   "execution_count": 43
  },
  {
   "cell_type": "code",
   "outputs": [],
   "source": [
    "# We have different layers to the model, so we separate the description of the flower from the type of flower\n",
    "X = iris_df.drop('Type of Flower', axis=1)  # how we have our inputs\n",
    "y = iris_df['Type of Flower']         #This is the results"
   ],
   "metadata": {
    "collapsed": false,
    "ExecuteTime": {
     "end_time": "2025-02-08T03:25:54.498872Z",
     "start_time": "2025-02-08T03:25:54.483458Z"
    }
   },
   "id": "6d5fe8ea2387f5e3",
   "execution_count": 44
  },
  {
   "cell_type": "code",
   "outputs": [],
   "source": [
    "#Converted the tabular data into Numpy Array bc pandas df doesn't work directly with tensors \n",
    "X = X.values\n",
    "y = y.values\n",
    "# I can skip this step and put .values, so it knows to use the values of the df "
   ],
   "metadata": {
    "collapsed": false
   },
   "id": "67ebccfd62fcca05",
   "execution_count": null
  },
  {
   "cell_type": "code",
   "outputs": [],
   "source": [
    "from sklearn.model_selection import train_test_split # This is to randomly split the data to training and testing\n",
    "#Test size is % data used for test\n",
    "X_train, X_test, y_train, y_test = train_test_split(X, y, test_size=0.2, random_state=0)\n",
    "#Now converting it to Tensor and put .values in the () if it is not numpy form\n",
    "X_train = torch.FloatTensor(X_train.values)  #It is easier to put them into floats bc the dataset they were floats\n",
    "X_test = torch.FloatTensor(X_test.values)"
   ],
   "metadata": {
    "collapsed": false,
    "ExecuteTime": {
     "end_time": "2025-02-08T03:25:58.573420Z",
     "start_time": "2025-02-08T03:25:58.534231Z"
    }
   },
   "id": "57cfae13fdc54a9",
   "execution_count": 45
  },
  {
   "cell_type": "code",
   "outputs": [],
   "source": [
    "y_train = torch.LongTensor(y_train.values)     #Converting them into Intergers \n",
    "y_test = torch.LongTensor(y_test.values)"
   ],
   "metadata": {
    "collapsed": false,
    "ExecuteTime": {
     "end_time": "2025-02-08T03:26:00.683251Z",
     "start_time": "2025-02-08T03:26:00.666337Z"
    }
   },
   "id": "18cc9e115a460e51",
   "execution_count": 46
  },
  {
   "cell_type": "code",
   "outputs": [],
   "source": [
    "#Setting up the Criterion, so we can see how far off are the prediction from the true value\n",
    "criterion = nn.CrossEntropyLoss()\n",
    "#(Training) Optimizer updates the model to find the minimum of the loss function using Gradient Decent\n",
    "optimizer = torch.optim.Adam(model.parameters(), lr =.01) #Adam & lr * Grad. vec.= Step size to find minimum error"
   ],
   "metadata": {
    "collapsed": false,
    "ExecuteTime": {
     "end_time": "2025-02-08T04:15:54.161252Z",
     "start_time": "2025-02-08T04:15:51.550827Z"
    }
   },
   "id": "952f9a7b06e0c483",
   "execution_count": 47
  },
  {
   "cell_type": "code",
   "outputs": [
    {
     "data": {
      "text/plain": "<bound method Module.parameters of Model(\n  (fc1): Linear(in_features=4, out_features=10, bias=True)\n  (fc2): Linear(in_features=10, out_features=10, bias=True)\n  (fc3): Linear(in_features=10, out_features=10, bias=True)\n  (fc4): Linear(in_features=10, out_features=3, bias=True)\n)>"
     },
     "execution_count": 48,
     "metadata": {},
     "output_type": "execute_result"
    }
   ],
   "source": [
    "model.parameters"
   ],
   "metadata": {
    "collapsed": false,
    "ExecuteTime": {
     "end_time": "2025-02-08T04:16:03.700592Z",
     "start_time": "2025-02-08T04:16:03.680845Z"
    }
   },
   "id": "9523d1881311bc7c",
   "execution_count": 48
  },
  {
   "cell_type": "code",
   "outputs": [
    {
     "name": "stdout",
     "output_type": "stream",
     "text": [
      "Epoch: 0, Loss: 0.04735713079571724\n",
      "Epoch: 10, Loss: 0.047375038266181946\n",
      "Epoch: 20, Loss: 0.04736888408660889\n",
      "Epoch: 30, Loss: 0.04735695198178291\n",
      "Epoch: 40, Loss: 0.04735180363059044\n",
      "Epoch: 50, Loss: 0.04735187813639641\n",
      "Epoch: 60, Loss: 0.04735170677304268\n",
      "Epoch: 70, Loss: 0.04735017940402031\n",
      "Epoch: 80, Loss: 0.04734991863369942\n",
      "Epoch: 90, Loss: 0.04734939709305763\n"
     ]
    }
   ],
   "source": [
    "#Training the model \n",
    "# Epoch is one run through the neural network with all the training data\n",
    "epochs = 100\n",
    "losses = []\n",
    "#Helps trains the model over epoch amount of time\n",
    "for epoch in range(epochs):\n",
    "    y_pred = model.forward(X_train) #Gets Predicted Results\n",
    "    # Measuring Loss (starts of high)\n",
    "    loss = criterion(y_pred, y_train)       #1/n * The Sum Notation(y_train-y_pred)^2\n",
    "    #Keeping track of our losses\n",
    "    losses.append(loss.item())          #This is \n",
    "    # Showing me every 10 epochs(runs)\n",
    "    if epoch % 10 == 0:\n",
    "        print(f'Epoch: {epoch}, Loss: {loss}')\n",
    "    #Now Back Propagation to help reduce the cost or loss/ Adjusts the weights and biases\n",
    "    optimizer.zero_grad()\n",
    "    loss.backward()\n",
    "    optimizer.step()\n",
    "    "
   ],
   "metadata": {
    "collapsed": false,
    "ExecuteTime": {
     "end_time": "2025-02-08T13:08:14.250860Z",
     "start_time": "2025-02-08T13:08:14.157962Z"
    }
   },
   "id": "74a6a30a620f7544",
   "execution_count": 53
  },
  {
   "cell_type": "code",
   "outputs": [
    {
     "data": {
      "text/plain": "Text(0, 0.5, 'Loss/Error')"
     },
     "execution_count": 54,
     "metadata": {},
     "output_type": "execute_result"
    },
    {
     "data": {
      "text/plain": "<Figure size 640x480 with 1 Axes>",
      "image/png": "[encoded data removed]"
     },
     "metadata": {},
     "output_type": "display_data"
    }
   ],
   "source": [
    "#Graphing the losses\n",
    "plt.plot(range(epochs), losses)\n",
    "plt.ylabel('Loss/Error')\n"
   ],
   "metadata": {
    "collapsed": false,
    "ExecuteTime": {
     "end_time": "2025-02-08T13:08:25.720401Z",
     "start_time": "2025-02-08T13:08:25.629657Z"
    }
   },
   "id": "7fb11d389e2742da",
   "execution_count": 54
  },
  {
   "cell_type": "code",
   "outputs": [],
   "source": [],
   "metadata": {
    "collapsed": false
   },
   "id": "d9698118a44905c4"
  }
 ],
 "metadata": {
  "kernelspec": {
   "display_name": "Python 3",
   "language": "python",
   "name": "python3"
  },
  "language_info": {
   "codemirror_mode": {
    "name": "ipython",
    "version": 2
   },
   "file_extension": ".py",
   "mimetype": "text/x-python",
   "name": "python",
   "nbconvert_exporter": "python",
   "pygments_lexer": "ipython2",
   "version": "2.7.6"
  }
 },
 "nbformat": 4,
 "nbformat_minor": 5
}
